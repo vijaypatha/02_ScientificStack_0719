{
 "cells": [
  {
   "cell_type": "code",
   "execution_count": 3,
   "metadata": {},
   "outputs": [],
   "source": [
    "import numpy as np\n",
    "import pandas as pd"
   ]
  },
  {
   "cell_type": "code",
   "execution_count": 11,
   "metadata": {},
   "outputs": [
    {
     "data": {
      "text/plain": [
       "[('Alabama[edit]\\n', 'Auburn (Auburn University)[1]\\n'),\n",
       " ('Alabama[edit]\\n', 'Florence (University of North Alabama)\\n'),\n",
       " ('Alabama[edit]\\n', 'Jacksonville (Jacksonville State University)[2]\\n'),\n",
       " ('Alabama[edit]\\n', 'Livingston (University of West Alabama)[2]\\n'),\n",
       " ('Alabama[edit]\\n', 'Montevallo (University of Montevallo)[2]\\n'),\n",
       " ('Alabama[edit]\\n', 'Troy (Troy University)[2]\\n'),\n",
       " ('Alabama[edit]\\n',\n",
       "  'Tuscaloosa (University of Alabama, Stillman College, Shelton State)[3][4]\\n'),\n",
       " ('Alabama[edit]\\n', 'Tuskegee (Tuskegee University)[5]\\n'),\n",
       " ('Alaska[edit]\\n', 'Fairbanks (University of Alaska Fairbanks)[2]\\n'),\n",
       " ('Arizona[edit]\\n', 'Flagstaff (Northern Arizona University)[6]\\n')]"
      ]
     },
     "execution_count": 11,
     "metadata": {},
     "output_type": "execute_result"
    }
   ],
   "source": [
    "university_towns = []\n",
    "with open('C://Users//vipatha//02_ScientificStack_0719//data/university_towns.txt') as file:\n",
    "    for i in file:\n",
    "        if '[edit]' in i:\n",
    "            state = i\n",
    "        else:\n",
    "            university_towns.append((state, i))\n",
    "university_towns[0:10]"
   ]
  },
  {
   "cell_type": "code",
   "execution_count": 12,
   "metadata": {},
   "outputs": [
    {
     "data": {
      "text/html": [
       "<div>\n",
       "<style scoped>\n",
       "    .dataframe tbody tr th:only-of-type {\n",
       "        vertical-align: middle;\n",
       "    }\n",
       "\n",
       "    .dataframe tbody tr th {\n",
       "        vertical-align: top;\n",
       "    }\n",
       "\n",
       "    .dataframe thead th {\n",
       "        text-align: right;\n",
       "    }\n",
       "</style>\n",
       "<table border=\"1\" class=\"dataframe\">\n",
       "  <thead>\n",
       "    <tr style=\"text-align: right;\">\n",
       "      <th></th>\n",
       "      <th>State</th>\n",
       "      <th>RegionName</th>\n",
       "    </tr>\n",
       "  </thead>\n",
       "  <tbody>\n",
       "    <tr>\n",
       "      <th>0</th>\n",
       "      <td>Alabama[edit]\\n</td>\n",
       "      <td>Auburn (Auburn University)[1]\\n</td>\n",
       "    </tr>\n",
       "    <tr>\n",
       "      <th>1</th>\n",
       "      <td>Alabama[edit]\\n</td>\n",
       "      <td>Florence (University of North Alabama)\\n</td>\n",
       "    </tr>\n",
       "    <tr>\n",
       "      <th>2</th>\n",
       "      <td>Alabama[edit]\\n</td>\n",
       "      <td>Jacksonville (Jacksonville State University)[2]\\n</td>\n",
       "    </tr>\n",
       "    <tr>\n",
       "      <th>3</th>\n",
       "      <td>Alabama[edit]\\n</td>\n",
       "      <td>Livingston (University of West Alabama)[2]\\n</td>\n",
       "    </tr>\n",
       "    <tr>\n",
       "      <th>4</th>\n",
       "      <td>Alabama[edit]\\n</td>\n",
       "      <td>Montevallo (University of Montevallo)[2]\\n</td>\n",
       "    </tr>\n",
       "    <tr>\n",
       "      <th>5</th>\n",
       "      <td>Alabama[edit]\\n</td>\n",
       "      <td>Troy (Troy University)[2]\\n</td>\n",
       "    </tr>\n",
       "    <tr>\n",
       "      <th>6</th>\n",
       "      <td>Alabama[edit]\\n</td>\n",
       "      <td>Tuscaloosa (University of Alabama, Stillman Co...</td>\n",
       "    </tr>\n",
       "    <tr>\n",
       "      <th>7</th>\n",
       "      <td>Alabama[edit]\\n</td>\n",
       "      <td>Tuskegee (Tuskegee University)[5]\\n</td>\n",
       "    </tr>\n",
       "    <tr>\n",
       "      <th>8</th>\n",
       "      <td>Alaska[edit]\\n</td>\n",
       "      <td>Fairbanks (University of Alaska Fairbanks)[2]\\n</td>\n",
       "    </tr>\n",
       "    <tr>\n",
       "      <th>9</th>\n",
       "      <td>Arizona[edit]\\n</td>\n",
       "      <td>Flagstaff (Northern Arizona University)[6]\\n</td>\n",
       "    </tr>\n",
       "    <tr>\n",
       "      <th>10</th>\n",
       "      <td>Arizona[edit]\\n</td>\n",
       "      <td>Tempe (Arizona State University)\\n</td>\n",
       "    </tr>\n",
       "    <tr>\n",
       "      <th>11</th>\n",
       "      <td>Arizona[edit]\\n</td>\n",
       "      <td>Tucson (University of Arizona)\\n</td>\n",
       "    </tr>\n",
       "    <tr>\n",
       "      <th>12</th>\n",
       "      <td>Arkansas[edit]\\n</td>\n",
       "      <td>Arkadelphia (Henderson State University, Ouach...</td>\n",
       "    </tr>\n",
       "    <tr>\n",
       "      <th>13</th>\n",
       "      <td>Arkansas[edit]\\n</td>\n",
       "      <td>Conway (Central Baptist College, Hendrix Colle...</td>\n",
       "    </tr>\n",
       "    <tr>\n",
       "      <th>14</th>\n",
       "      <td>Arkansas[edit]\\n</td>\n",
       "      <td>Fayetteville (University of Arkansas)[7]\\n</td>\n",
       "    </tr>\n",
       "    <tr>\n",
       "      <th>15</th>\n",
       "      <td>Arkansas[edit]\\n</td>\n",
       "      <td>Jonesboro (Arkansas State University)[8]\\n</td>\n",
       "    </tr>\n",
       "    <tr>\n",
       "      <th>16</th>\n",
       "      <td>Arkansas[edit]\\n</td>\n",
       "      <td>Magnolia (Southern Arkansas University)[2]\\n</td>\n",
       "    </tr>\n",
       "    <tr>\n",
       "      <th>17</th>\n",
       "      <td>Arkansas[edit]\\n</td>\n",
       "      <td>Monticello (University of Arkansas at Monticel...</td>\n",
       "    </tr>\n",
       "    <tr>\n",
       "      <th>18</th>\n",
       "      <td>Arkansas[edit]\\n</td>\n",
       "      <td>Russellville (Arkansas Tech University)[2]\\n</td>\n",
       "    </tr>\n",
       "    <tr>\n",
       "      <th>19</th>\n",
       "      <td>Arkansas[edit]\\n</td>\n",
       "      <td>Searcy (Harding University)[5]\\n</td>\n",
       "    </tr>\n",
       "  </tbody>\n",
       "</table>\n",
       "</div>"
      ],
      "text/plain": [
       "               State                                         RegionName\n",
       "0    Alabama[edit]\\n                    Auburn (Auburn University)[1]\\n\n",
       "1    Alabama[edit]\\n           Florence (University of North Alabama)\\n\n",
       "2    Alabama[edit]\\n  Jacksonville (Jacksonville State University)[2]\\n\n",
       "3    Alabama[edit]\\n       Livingston (University of West Alabama)[2]\\n\n",
       "4    Alabama[edit]\\n         Montevallo (University of Montevallo)[2]\\n\n",
       "5    Alabama[edit]\\n                        Troy (Troy University)[2]\\n\n",
       "6    Alabama[edit]\\n  Tuscaloosa (University of Alabama, Stillman Co...\n",
       "7    Alabama[edit]\\n                Tuskegee (Tuskegee University)[5]\\n\n",
       "8     Alaska[edit]\\n    Fairbanks (University of Alaska Fairbanks)[2]\\n\n",
       "9    Arizona[edit]\\n       Flagstaff (Northern Arizona University)[6]\\n\n",
       "10   Arizona[edit]\\n                 Tempe (Arizona State University)\\n\n",
       "11   Arizona[edit]\\n                   Tucson (University of Arizona)\\n\n",
       "12  Arkansas[edit]\\n  Arkadelphia (Henderson State University, Ouach...\n",
       "13  Arkansas[edit]\\n  Conway (Central Baptist College, Hendrix Colle...\n",
       "14  Arkansas[edit]\\n         Fayetteville (University of Arkansas)[7]\\n\n",
       "15  Arkansas[edit]\\n         Jonesboro (Arkansas State University)[8]\\n\n",
       "16  Arkansas[edit]\\n       Magnolia (Southern Arkansas University)[2]\\n\n",
       "17  Arkansas[edit]\\n  Monticello (University of Arkansas at Monticel...\n",
       "18  Arkansas[edit]\\n       Russellville (Arkansas Tech University)[2]\\n\n",
       "19  Arkansas[edit]\\n                   Searcy (Harding University)[5]\\n"
      ]
     },
     "execution_count": 12,
     "metadata": {},
     "output_type": "execute_result"
    }
   ],
   "source": [
    "towns_df = pd.DataFrame(university_towns, columns=['State', 'RegionName'])\n",
    "towns_df.head(20)"
   ]
  },
  {
   "cell_type": "code",
   "execution_count": 14,
   "metadata": {},
   "outputs": [
    {
     "data": {
      "text/plain": [
       "0    Alabama\n",
       "1    Alabama\n",
       "2    Alabama\n",
       "3    Alabama\n",
       "4    Alabama\n",
       "5    Alabama\n",
       "6    Alabama\n",
       "7    Alabama\n",
       "8     Alaska\n",
       "9    Arizona\n",
       "Name: State, dtype: object"
      ]
     },
     "execution_count": 14,
     "metadata": {},
     "output_type": "execute_result"
    }
   ],
   "source": [
    "towns_df['State'] = towns_df['State'].str.split(\"[\", expand=True)\n",
    "towns_df['State'].head(10)"
   ]
  },
  {
   "cell_type": "code",
   "execution_count": 15,
   "metadata": {},
   "outputs": [
    {
     "data": {
      "text/html": [
       "<div>\n",
       "<style scoped>\n",
       "    .dataframe tbody tr th:only-of-type {\n",
       "        vertical-align: middle;\n",
       "    }\n",
       "\n",
       "    .dataframe tbody tr th {\n",
       "        vertical-align: top;\n",
       "    }\n",
       "\n",
       "    .dataframe thead th {\n",
       "        text-align: right;\n",
       "    }\n",
       "</style>\n",
       "<table border=\"1\" class=\"dataframe\">\n",
       "  <thead>\n",
       "    <tr style=\"text-align: right;\">\n",
       "      <th></th>\n",
       "      <th>State</th>\n",
       "      <th>RegionName</th>\n",
       "    </tr>\n",
       "  </thead>\n",
       "  <tbody>\n",
       "    <tr>\n",
       "      <th>0</th>\n",
       "      <td>Alabama</td>\n",
       "      <td>Auburn (Auburn University)[1]\\n</td>\n",
       "    </tr>\n",
       "    <tr>\n",
       "      <th>1</th>\n",
       "      <td>Alabama</td>\n",
       "      <td>Florence (University of North Alabama)\\n</td>\n",
       "    </tr>\n",
       "    <tr>\n",
       "      <th>2</th>\n",
       "      <td>Alabama</td>\n",
       "      <td>Jacksonville (Jacksonville State University)[2]\\n</td>\n",
       "    </tr>\n",
       "    <tr>\n",
       "      <th>3</th>\n",
       "      <td>Alabama</td>\n",
       "      <td>Livingston (University of West Alabama)[2]\\n</td>\n",
       "    </tr>\n",
       "    <tr>\n",
       "      <th>4</th>\n",
       "      <td>Alabama</td>\n",
       "      <td>Montevallo (University of Montevallo)[2]\\n</td>\n",
       "    </tr>\n",
       "  </tbody>\n",
       "</table>\n",
       "</div>"
      ],
      "text/plain": [
       "     State                                         RegionName\n",
       "0  Alabama                    Auburn (Auburn University)[1]\\n\n",
       "1  Alabama           Florence (University of North Alabama)\\n\n",
       "2  Alabama  Jacksonville (Jacksonville State University)[2]\\n\n",
       "3  Alabama       Livingston (University of West Alabama)[2]\\n\n",
       "4  Alabama         Montevallo (University of Montevallo)[2]\\n"
      ]
     },
     "execution_count": 15,
     "metadata": {},
     "output_type": "execute_result"
    }
   ],
   "source": [
    "towns_df.head(5)"
   ]
  },
  {
   "cell_type": "code",
   "execution_count": 20,
   "metadata": {},
   "outputs": [
    {
     "data": {
      "text/html": [
       "<div>\n",
       "<style scoped>\n",
       "    .dataframe tbody tr th:only-of-type {\n",
       "        vertical-align: middle;\n",
       "    }\n",
       "\n",
       "    .dataframe tbody tr th {\n",
       "        vertical-align: top;\n",
       "    }\n",
       "\n",
       "    .dataframe thead th {\n",
       "        text-align: right;\n",
       "    }\n",
       "</style>\n",
       "<table border=\"1\" class=\"dataframe\">\n",
       "  <thead>\n",
       "    <tr style=\"text-align: right;\">\n",
       "      <th></th>\n",
       "      <th>State</th>\n",
       "      <th>RegionName</th>\n",
       "      <th>City</th>\n",
       "      <th>University</th>\n",
       "      <th>1</th>\n",
       "      <th>2</th>\n",
       "    </tr>\n",
       "  </thead>\n",
       "  <tbody>\n",
       "    <tr>\n",
       "      <th>0</th>\n",
       "      <td>Alabama</td>\n",
       "      <td>Auburn (Auburn University)[1]\\n</td>\n",
       "      <td>Auburn</td>\n",
       "      <td>Auburn University)[1]\\n</td>\n",
       "      <td>None</td>\n",
       "      <td>None</td>\n",
       "    </tr>\n",
       "    <tr>\n",
       "      <th>1</th>\n",
       "      <td>Alabama</td>\n",
       "      <td>Florence (University of North Alabama)\\n</td>\n",
       "      <td>Florence</td>\n",
       "      <td>University of North Alabama)\\n</td>\n",
       "      <td>None</td>\n",
       "      <td>None</td>\n",
       "    </tr>\n",
       "    <tr>\n",
       "      <th>2</th>\n",
       "      <td>Alabama</td>\n",
       "      <td>Jacksonville (Jacksonville State University)[2]\\n</td>\n",
       "      <td>Jacksonville</td>\n",
       "      <td>Jacksonville State University)[2]\\n</td>\n",
       "      <td>None</td>\n",
       "      <td>None</td>\n",
       "    </tr>\n",
       "    <tr>\n",
       "      <th>3</th>\n",
       "      <td>Alabama</td>\n",
       "      <td>Livingston (University of West Alabama)[2]\\n</td>\n",
       "      <td>Livingston</td>\n",
       "      <td>University of West Alabama)[2]\\n</td>\n",
       "      <td>None</td>\n",
       "      <td>None</td>\n",
       "    </tr>\n",
       "    <tr>\n",
       "      <th>4</th>\n",
       "      <td>Alabama</td>\n",
       "      <td>Montevallo (University of Montevallo)[2]\\n</td>\n",
       "      <td>Montevallo</td>\n",
       "      <td>University of Montevallo)[2]\\n</td>\n",
       "      <td>None</td>\n",
       "      <td>None</td>\n",
       "    </tr>\n",
       "  </tbody>\n",
       "</table>\n",
       "</div>"
      ],
      "text/plain": [
       "     State                                         RegionName           City  \\\n",
       "0  Alabama                    Auburn (Auburn University)[1]\\n        Auburn    \n",
       "1  Alabama           Florence (University of North Alabama)\\n      Florence    \n",
       "2  Alabama  Jacksonville (Jacksonville State University)[2]\\n  Jacksonville    \n",
       "3  Alabama       Livingston (University of West Alabama)[2]\\n    Livingston    \n",
       "4  Alabama         Montevallo (University of Montevallo)[2]\\n    Montevallo    \n",
       "\n",
       "                            University     1     2  \n",
       "0              Auburn University)[1]\\n  None  None  \n",
       "1       University of North Alabama)\\n  None  None  \n",
       "2  Jacksonville State University)[2]\\n  None  None  \n",
       "3     University of West Alabama)[2]\\n  None  None  \n",
       "4       University of Montevallo)[2]\\n  None  None  "
      ]
     },
     "execution_count": 20,
     "metadata": {},
     "output_type": "execute_result"
    }
   ],
   "source": [
    "towns_df[['City','University','1','2']] = towns_df['RegionName'].str.split(\"(\", expand=True)\n",
    "towns_df.head(5)"
   ]
  },
  {
   "cell_type": "code",
   "execution_count": 21,
   "metadata": {},
   "outputs": [
    {
     "data": {
      "text/html": [
       "<div>\n",
       "<style scoped>\n",
       "    .dataframe tbody tr th:only-of-type {\n",
       "        vertical-align: middle;\n",
       "    }\n",
       "\n",
       "    .dataframe tbody tr th {\n",
       "        vertical-align: top;\n",
       "    }\n",
       "\n",
       "    .dataframe thead th {\n",
       "        text-align: right;\n",
       "    }\n",
       "</style>\n",
       "<table border=\"1\" class=\"dataframe\">\n",
       "  <thead>\n",
       "    <tr style=\"text-align: right;\">\n",
       "      <th></th>\n",
       "      <th>State</th>\n",
       "      <th>City</th>\n",
       "      <th>University</th>\n",
       "    </tr>\n",
       "  </thead>\n",
       "  <tbody>\n",
       "    <tr>\n",
       "      <th>0</th>\n",
       "      <td>Alabama</td>\n",
       "      <td>Auburn</td>\n",
       "      <td>Auburn University)[1]\\n</td>\n",
       "    </tr>\n",
       "    <tr>\n",
       "      <th>1</th>\n",
       "      <td>Alabama</td>\n",
       "      <td>Florence</td>\n",
       "      <td>University of North Alabama)\\n</td>\n",
       "    </tr>\n",
       "    <tr>\n",
       "      <th>2</th>\n",
       "      <td>Alabama</td>\n",
       "      <td>Jacksonville</td>\n",
       "      <td>Jacksonville State University)[2]\\n</td>\n",
       "    </tr>\n",
       "    <tr>\n",
       "      <th>3</th>\n",
       "      <td>Alabama</td>\n",
       "      <td>Livingston</td>\n",
       "      <td>University of West Alabama)[2]\\n</td>\n",
       "    </tr>\n",
       "    <tr>\n",
       "      <th>4</th>\n",
       "      <td>Alabama</td>\n",
       "      <td>Montevallo</td>\n",
       "      <td>University of Montevallo)[2]\\n</td>\n",
       "    </tr>\n",
       "  </tbody>\n",
       "</table>\n",
       "</div>"
      ],
      "text/plain": [
       "     State           City                           University\n",
       "0  Alabama        Auburn               Auburn University)[1]\\n\n",
       "1  Alabama      Florence        University of North Alabama)\\n\n",
       "2  Alabama  Jacksonville   Jacksonville State University)[2]\\n\n",
       "3  Alabama    Livingston      University of West Alabama)[2]\\n\n",
       "4  Alabama    Montevallo        University of Montevallo)[2]\\n"
      ]
     },
     "execution_count": 21,
     "metadata": {},
     "output_type": "execute_result"
    }
   ],
   "source": [
    "to_drop = ['RegionName','1','2']\n",
    "towns_df = towns_df.drop(to_drop,axis=1)\n",
    "towns_df.head(5)"
   ]
  },
  {
   "cell_type": "code",
   "execution_count": 23,
   "metadata": {},
   "outputs": [],
   "source": [
    "#towns_df['University'].str.split(')', expand = True)\n",
    "towns_df[['University_Name', 'drop']] = towns_df['University'].str.split(')', expand = True)"
   ]
  },
  {
   "cell_type": "code",
   "execution_count": 29,
   "metadata": {},
   "outputs": [
    {
     "data": {
      "text/html": [
       "<div>\n",
       "<style scoped>\n",
       "    .dataframe tbody tr th:only-of-type {\n",
       "        vertical-align: middle;\n",
       "    }\n",
       "\n",
       "    .dataframe tbody tr th {\n",
       "        vertical-align: top;\n",
       "    }\n",
       "\n",
       "    .dataframe thead th {\n",
       "        text-align: right;\n",
       "    }\n",
       "</style>\n",
       "<table border=\"1\" class=\"dataframe\">\n",
       "  <thead>\n",
       "    <tr style=\"text-align: right;\">\n",
       "      <th></th>\n",
       "      <th>State</th>\n",
       "      <th>City</th>\n",
       "      <th>University</th>\n",
       "      <th>University_Name</th>\n",
       "    </tr>\n",
       "  </thead>\n",
       "  <tbody>\n",
       "    <tr>\n",
       "      <th>0</th>\n",
       "      <td>Alabama</td>\n",
       "      <td>Auburn</td>\n",
       "      <td>Auburn University)[1]\\n</td>\n",
       "      <td>Auburn University</td>\n",
       "    </tr>\n",
       "    <tr>\n",
       "      <th>1</th>\n",
       "      <td>Alabama</td>\n",
       "      <td>Florence</td>\n",
       "      <td>University of North Alabama)\\n</td>\n",
       "      <td>University of North Alabama</td>\n",
       "    </tr>\n",
       "    <tr>\n",
       "      <th>2</th>\n",
       "      <td>Alabama</td>\n",
       "      <td>Jacksonville</td>\n",
       "      <td>Jacksonville State University)[2]\\n</td>\n",
       "      <td>Jacksonville State University</td>\n",
       "    </tr>\n",
       "    <tr>\n",
       "      <th>3</th>\n",
       "      <td>Alabama</td>\n",
       "      <td>Livingston</td>\n",
       "      <td>University of West Alabama)[2]\\n</td>\n",
       "      <td>University of West Alabama</td>\n",
       "    </tr>\n",
       "    <tr>\n",
       "      <th>4</th>\n",
       "      <td>Alabama</td>\n",
       "      <td>Montevallo</td>\n",
       "      <td>University of Montevallo)[2]\\n</td>\n",
       "      <td>University of Montevallo</td>\n",
       "    </tr>\n",
       "  </tbody>\n",
       "</table>\n",
       "</div>"
      ],
      "text/plain": [
       "     State           City                           University  \\\n",
       "0  Alabama        Auburn               Auburn University)[1]\\n   \n",
       "1  Alabama      Florence        University of North Alabama)\\n   \n",
       "2  Alabama  Jacksonville   Jacksonville State University)[2]\\n   \n",
       "3  Alabama    Livingston      University of West Alabama)[2]\\n   \n",
       "4  Alabama    Montevallo        University of Montevallo)[2]\\n   \n",
       "\n",
       "                 University_Name  \n",
       "0              Auburn University  \n",
       "1    University of North Alabama  \n",
       "2  Jacksonville State University  \n",
       "3     University of West Alabama  \n",
       "4       University of Montevallo  "
      ]
     },
     "execution_count": 29,
     "metadata": {},
     "output_type": "execute_result"
    }
   ],
   "source": [
    "towns_df.head(5)"
   ]
  },
  {
   "cell_type": "code",
   "execution_count": 31,
   "metadata": {},
   "outputs": [
    {
     "data": {
      "text/html": [
       "<div>\n",
       "<style scoped>\n",
       "    .dataframe tbody tr th:only-of-type {\n",
       "        vertical-align: middle;\n",
       "    }\n",
       "\n",
       "    .dataframe tbody tr th {\n",
       "        vertical-align: top;\n",
       "    }\n",
       "\n",
       "    .dataframe thead th {\n",
       "        text-align: right;\n",
       "    }\n",
       "</style>\n",
       "<table border=\"1\" class=\"dataframe\">\n",
       "  <thead>\n",
       "    <tr style=\"text-align: right;\">\n",
       "      <th></th>\n",
       "      <th>State</th>\n",
       "      <th>City</th>\n",
       "      <th>University_Name</th>\n",
       "    </tr>\n",
       "  </thead>\n",
       "  <tbody>\n",
       "    <tr>\n",
       "      <th>0</th>\n",
       "      <td>Alabama</td>\n",
       "      <td>Auburn</td>\n",
       "      <td>Auburn University</td>\n",
       "    </tr>\n",
       "    <tr>\n",
       "      <th>1</th>\n",
       "      <td>Alabama</td>\n",
       "      <td>Florence</td>\n",
       "      <td>University of North Alabama</td>\n",
       "    </tr>\n",
       "    <tr>\n",
       "      <th>2</th>\n",
       "      <td>Alabama</td>\n",
       "      <td>Jacksonville</td>\n",
       "      <td>Jacksonville State University</td>\n",
       "    </tr>\n",
       "    <tr>\n",
       "      <th>3</th>\n",
       "      <td>Alabama</td>\n",
       "      <td>Livingston</td>\n",
       "      <td>University of West Alabama</td>\n",
       "    </tr>\n",
       "    <tr>\n",
       "      <th>4</th>\n",
       "      <td>Alabama</td>\n",
       "      <td>Montevallo</td>\n",
       "      <td>University of Montevallo</td>\n",
       "    </tr>\n",
       "  </tbody>\n",
       "</table>\n",
       "</div>"
      ],
      "text/plain": [
       "     State           City                University_Name\n",
       "0  Alabama        Auburn               Auburn University\n",
       "1  Alabama      Florence     University of North Alabama\n",
       "2  Alabama  Jacksonville   Jacksonville State University\n",
       "3  Alabama    Livingston      University of West Alabama\n",
       "4  Alabama    Montevallo        University of Montevallo"
      ]
     },
     "execution_count": 31,
     "metadata": {},
     "output_type": "execute_result"
    }
   ],
   "source": [
    "towns_df.drop(['University'], axis=1,inplace=True)\n",
    "towns_df.head(5)"
   ]
  },
  {
   "cell_type": "code",
   "execution_count": 34,
   "metadata": {},
   "outputs": [
    {
     "name": "stdout",
     "output_type": "stream",
     "text": [
      "    State             City           University_Name\n",
      "465  Utah      Cedar City   Southern Utah University\n",
      "466  Utah           Logan      Utah State University\n",
      "467  Utah           Provo   Brigham Young University\n",
      "468  Utah            Orem     Utah Valley University\n",
      "469  Utah  Salt Lake City         University of Utah\n",
      "470  Utah         Ephraim               Snow College\n"
     ]
    }
   ],
   "source": [
    "#towns_df['State'] == 'Utah'\n",
    "print(towns_df.loc[towns_df['State'] == 'Utah'])\n"
   ]
  },
  {
   "cell_type": "code",
   "execution_count": 36,
   "metadata": {},
   "outputs": [
    {
     "name": "stdout",
     "output_type": "stream",
     "text": [
      "          State                           City                University_Name\n",
      "489  Washington                    Bellingham   Western Washington University\n",
      "490  Washington                        Cheney   Eastern Washington University\n",
      "491  Washington                    Ellensburg   Central Washington University\n",
      "492  Washington                       Pullman     Washington State University\n",
      "493  Washington  University District, Seattle        University of Washington\n"
     ]
    }
   ],
   "source": [
    "print(towns_df.loc[towns_df['State'] == 'Washington'])"
   ]
  },
  {
   "cell_type": "code",
   "execution_count": 37,
   "metadata": {},
   "outputs": [
    {
     "name": "stdout",
     "output_type": "stream",
     "text": [
      "     State    City                University_Name\n",
      "91  Hawaii  Manoa   University of Hawaii at Manoa\n"
     ]
    }
   ],
   "source": [
    "print(towns_df.loc[towns_df['State'] == 'Hawaii'])"
   ]
  },
  {
   "cell_type": "code",
   "execution_count": null,
   "metadata": {},
   "outputs": [],
   "source": []
  }
 ],
 "metadata": {
  "kernelspec": {
   "display_name": "Python 3",
   "language": "python",
   "name": "python3"
  },
  "language_info": {
   "codemirror_mode": {
    "name": "ipython",
    "version": 3
   },
   "file_extension": ".py",
   "mimetype": "text/x-python",
   "name": "python",
   "nbconvert_exporter": "python",
   "pygments_lexer": "ipython3",
   "version": "3.7.3"
  }
 },
 "nbformat": 4,
 "nbformat_minor": 2
}
